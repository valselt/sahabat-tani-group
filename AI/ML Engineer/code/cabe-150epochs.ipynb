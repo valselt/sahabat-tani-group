{
 "cells": [
  {
   "cell_type": "code",
   "execution_count": 1,
   "metadata": {
    "colab": {
     "base_uri": "https://localhost:8080/"
    },
    "id": "LcX2wDfbcu5e",
    "outputId": "fad66e53-d9bc-4300-8b75-7b3447abdea9"
   },
   "outputs": [
    {
     "name": "stdout",
     "output_type": "stream",
     "text": [
      "c:\\Users\\ivana\\Downloads\n"
     ]
    }
   ],
   "source": [
    "import os\n",
    "HOME = os.getcwd()\n",
    "print(HOME)"
   ]
  },
  {
   "cell_type": "code",
   "execution_count": 3,
   "metadata": {},
   "outputs": [
    {
     "name": "stdout",
     "output_type": "stream",
     "text": [
      "API Key successfully stored secretly 🤫👁️❗.\n"
     ]
    }
   ],
   "source": [
    "from getpass import getpass\n",
    "\n",
    "ROBOFLOW_API_KEY = getpass(\"Enter API KEY: \")\n",
    "print(\"API Key successfully stored secretly 🤫👁️❗.\")"
   ]
  },
  {
   "cell_type": "markdown",
   "metadata": {
    "id": "EtjDwKMjdBnY"
   },
   "source": [
    "impor dataset roboflow\n"
   ]
  },
  {
   "cell_type": "code",
   "execution_count": null,
   "metadata": {
    "colab": {
     "base_uri": "https://localhost:8080/"
    },
    "id": "cjWB9YEDdBGJ",
    "outputId": "1e1d1605-7785-4638-c4b6-b99f3878b930"
   },
   "outputs": [
    {
     "name": "stderr",
     "output_type": "stream",
     "text": [
      "The syntax of the command is incorrect.\n"
     ]
    },
    {
     "name": "stdout",
     "output_type": "stream",
     "text": [
      "[WinError 2] The system cannot find the file specified: 'c:\\\\Users\\\\ivana\\\\Downloads/datasets'\n",
      "c:\\Users\\ivana\\Downloads\n",
      "loading Roboflow workspace...\n",
      "loading Roboflow project...\n"
     ]
    },
    {
     "name": "stderr",
     "output_type": "stream",
     "text": [
      "Downloading Dataset Version Zip in lettuce-1 to yolov11::  65%|██████▍   | 669921/1031020 [01:57<00:55, 6472.80it/s]"
     ]
    }
   ],
   "source": [
    "!mkdir {HOME}/datasets\n",
    "%cd {HOME}/datasets\n",
    "\n",
    "from roboflow import Roboflow\n",
    "\n",
    "rf = Roboflow(api_key=ROBOFLOW_API_KEY)\n",
    "\n",
    "project = rf.workspace(\"apis-0wcee\").project(\"capstone-zaiw1\")\n",
    "version = project.version(7)\n",
    "dataset = version.download(\"yolov11\")"
   ]
  },
  {
   "cell_type": "markdown",
   "metadata": {
    "id": "FavQh7GddEPo"
   },
   "source": [
    "run\n"
   ]
  },
  {
   "cell_type": "code",
   "execution_count": null,
   "metadata": {
    "colab": {
     "base_uri": "https://localhost:8080/"
    },
    "id": "aKrj0i7TdGP_",
    "outputId": "81e6f6a6-255f-456b-c0e6-54e12a984328"
   },
   "outputs": [
    {
     "name": "stdout",
     "output_type": "stream",
     "text": [
      "/content\n",
      "Downloading https://github.com/ultralytics/assets/releases/download/v8.3.0/yolo11s.pt to 'yolo11s.pt'...\n",
      "100% 18.4M/18.4M [00:00<00:00, 129MB/s] \n",
      "Ultralytics 8.3.36 🚀 Python-3.10.12 torch-2.5.1+cu121 CUDA:0 (Tesla T4, 15102MiB)\n",
      "\u001b[34m\u001b[1mengine/trainer: \u001b[0mtask=detect, mode=train, model=yolo11s.pt, data=/content/datasets/Kamatis_Detection-5/data.yaml, epochs=10, time=None, patience=100, batch=16, imgsz=640, save=True, save_period=-1, cache=False, device=None, workers=8, project=None, name=train, exist_ok=False, pretrained=True, optimizer=auto, verbose=True, seed=0, deterministic=True, single_cls=False, rect=False, cos_lr=False, close_mosaic=10, resume=False, amp=True, fraction=1.0, profile=False, freeze=None, multi_scale=False, overlap_mask=True, mask_ratio=4, dropout=0.0, val=True, split=val, save_json=False, save_hybrid=False, conf=None, iou=0.7, max_det=300, half=False, dnn=False, plots=True, source=None, vid_stride=1, stream_buffer=False, visualize=False, augment=False, agnostic_nms=False, classes=None, retina_masks=False, embed=None, show=False, save_frames=False, save_txt=False, save_conf=False, save_crop=False, show_labels=True, show_conf=True, show_boxes=True, line_width=None, format=torchscript, keras=False, optimize=False, int8=False, dynamic=False, simplify=True, opset=None, workspace=4, nms=False, lr0=0.01, lrf=0.01, momentum=0.937, weight_decay=0.0005, warmup_epochs=3.0, warmup_momentum=0.8, warmup_bias_lr=0.1, box=7.5, cls=0.5, dfl=1.5, pose=12.0, kobj=1.0, label_smoothing=0.0, nbs=64, hsv_h=0.015, hsv_s=0.7, hsv_v=0.4, degrees=0.0, translate=0.1, scale=0.5, shear=0.0, perspective=0.0, flipud=0.0, fliplr=0.5, bgr=0.0, mosaic=1.0, mixup=0.0, copy_paste=0.0, copy_paste_mode=flip, auto_augment=randaugment, erasing=0.4, crop_fraction=1.0, cfg=None, tracker=botsort.yaml, save_dir=runs/detect/train\n",
      "Downloading https://ultralytics.com/assets/Arial.ttf to '/root/.config/Ultralytics/Arial.ttf'...\n",
      "100% 755k/755k [00:00<00:00, 21.7MB/s]\n",
      "Overriding model.yaml nc=80 with nc=6\n",
      "\n",
      "                   from  n    params  module                                       arguments                     \n",
      "  0                  -1  1       928  ultralytics.nn.modules.conv.Conv             [3, 32, 3, 2]                 \n",
      "  1                  -1  1     18560  ultralytics.nn.modules.conv.Conv             [32, 64, 3, 2]                \n",
      "  2                  -1  1     26080  ultralytics.nn.modules.block.C3k2            [64, 128, 1, False, 0.25]     \n",
      "  3                  -1  1    147712  ultralytics.nn.modules.conv.Conv             [128, 128, 3, 2]              \n",
      "  4                  -1  1    103360  ultralytics.nn.modules.block.C3k2            [128, 256, 1, False, 0.25]    \n",
      "  5                  -1  1    590336  ultralytics.nn.modules.conv.Conv             [256, 256, 3, 2]              \n",
      "  6                  -1  1    346112  ultralytics.nn.modules.block.C3k2            [256, 256, 1, True]           \n",
      "  7                  -1  1   1180672  ultralytics.nn.modules.conv.Conv             [256, 512, 3, 2]              \n",
      "  8                  -1  1   1380352  ultralytics.nn.modules.block.C3k2            [512, 512, 1, True]           \n",
      "  9                  -1  1    656896  ultralytics.nn.modules.block.SPPF            [512, 512, 5]                 \n",
      " 10                  -1  1    990976  ultralytics.nn.modules.block.C2PSA           [512, 512, 1]                 \n",
      " 11                  -1  1         0  torch.nn.modules.upsampling.Upsample         [None, 2, 'nearest']          \n",
      " 12             [-1, 6]  1         0  ultralytics.nn.modules.conv.Concat           [1]                           \n",
      " 13                  -1  1    443776  ultralytics.nn.modules.block.C3k2            [768, 256, 1, False]          \n",
      " 14                  -1  1         0  torch.nn.modules.upsampling.Upsample         [None, 2, 'nearest']          \n",
      " 15             [-1, 4]  1         0  ultralytics.nn.modules.conv.Concat           [1]                           \n",
      " 16                  -1  1    127680  ultralytics.nn.modules.block.C3k2            [512, 128, 1, False]          \n",
      " 17                  -1  1    147712  ultralytics.nn.modules.conv.Conv             [128, 128, 3, 2]              \n",
      " 18            [-1, 13]  1         0  ultralytics.nn.modules.conv.Concat           [1]                           \n",
      " 19                  -1  1    345472  ultralytics.nn.modules.block.C3k2            [384, 256, 1, False]          \n",
      " 20                  -1  1    590336  ultralytics.nn.modules.conv.Conv             [256, 256, 3, 2]              \n",
      " 21            [-1, 10]  1         0  ultralytics.nn.modules.conv.Concat           [1]                           \n",
      " 22                  -1  1   1511424  ultralytics.nn.modules.block.C3k2            [768, 512, 1, True]           \n",
      " 23        [16, 19, 22]  1    821730  ultralytics.nn.modules.head.Detect           [6, [128, 256, 512]]          \n",
      "YOLO11s summary: 319 layers, 9,430,114 parameters, 9,430,098 gradients, 21.6 GFLOPs\n",
      "\n",
      "Transferred 493/499 items from pretrained weights\n",
      "\u001b[34m\u001b[1mTensorBoard: \u001b[0mStart with 'tensorboard --logdir runs/detect/train', view at http://localhost:6006/\n",
      "Freezing layer 'model.23.dfl.conv.weight'\n",
      "\u001b[34m\u001b[1mAMP: \u001b[0mrunning Automatic Mixed Precision (AMP) checks...\n",
      "Downloading https://github.com/ultralytics/assets/releases/download/v8.3.0/yolo11n.pt to 'yolo11n.pt'...\n",
      "100% 5.35M/5.35M [00:00<00:00, 86.7MB/s]\n",
      "\u001b[34m\u001b[1mAMP: \u001b[0mchecks passed ✅\n",
      "\u001b[34m\u001b[1mtrain: \u001b[0mScanning /content/datasets/Kamatis_Detection-5/train/labels... 7707 images, 1803 backgrounds, 0 corrupt: 100% 7707/7707 [00:04<00:00, 1836.95it/s]\n",
      "\u001b[34m\u001b[1mtrain: \u001b[0mNew cache created: /content/datasets/Kamatis_Detection-5/train/labels.cache\n",
      "WARNING ⚠️ Box and segment counts should be equal, but got len(segments) = 1179, len(boxes) = 10326. To resolve this only boxes will be used and all segments will be removed. To avoid this please supply either a detect or segment dataset, not a detect-segment mixed dataset.\n",
      "/usr/local/lib/python3.10/dist-packages/albumentations/__init__.py:24: UserWarning: A new version of Albumentations is available: 1.4.21 (you have 1.4.20). Upgrade using: pip install -U albumentations. To disable automatic update checks, set the environment variable NO_ALBUMENTATIONS_UPDATE to 1.\n",
      "  check_for_updates()\n",
      "\u001b[34m\u001b[1malbumentations: \u001b[0mBlur(p=0.01, blur_limit=(3, 7)), MedianBlur(p=0.01, blur_limit=(3, 7)), ToGray(p=0.01, num_output_channels=3, method='weighted_average'), CLAHE(p=0.01, clip_limit=(1.0, 4.0), tile_grid_size=(8, 8))\n",
      "\u001b[34m\u001b[1mval: \u001b[0mScanning /content/datasets/Kamatis_Detection-5/valid/labels... 327 images, 96 backgrounds, 0 corrupt: 100% 327/327 [00:00<00:00, 1649.83it/s]\n",
      "\u001b[34m\u001b[1mval: \u001b[0mNew cache created: /content/datasets/Kamatis_Detection-5/valid/labels.cache\n",
      "WARNING ⚠️ Box and segment counts should be equal, but got len(segments) = 18, len(boxes) = 345. To resolve this only boxes will be used and all segments will be removed. To avoid this please supply either a detect or segment dataset, not a detect-segment mixed dataset.\n",
      "Plotting labels to runs/detect/train/labels.jpg... \n",
      "\u001b[34m\u001b[1moptimizer:\u001b[0m 'optimizer=auto' found, ignoring 'lr0=0.01' and 'momentum=0.937' and determining best 'optimizer', 'lr0' and 'momentum' automatically... \n",
      "\u001b[34m\u001b[1moptimizer:\u001b[0m AdamW(lr=0.001, momentum=0.9) with parameter groups 81 weight(decay=0.0), 88 weight(decay=0.0005), 87 bias(decay=0.0)\n",
      "\u001b[34m\u001b[1mTensorBoard: \u001b[0mmodel graph visualization added ✅\n",
      "Image sizes 640 train, 640 val\n",
      "Using 2 dataloader workers\n",
      "Logging results to \u001b[1mruns/detect/train\u001b[0m\n",
      "Starting training for 10 epochs...\n",
      "Closing dataloader mosaic\n",
      "\u001b[34m\u001b[1malbumentations: \u001b[0mBlur(p=0.01, blur_limit=(3, 7)), MedianBlur(p=0.01, blur_limit=(3, 7)), ToGray(p=0.01, num_output_channels=3, method='weighted_average'), CLAHE(p=0.01, clip_limit=(1.0, 4.0), tile_grid_size=(8, 8))\n",
      "\n",
      "      Epoch    GPU_mem   box_loss   cls_loss   dfl_loss  Instances       Size\n",
      "       1/10      4.36G      1.453      2.897       1.74         17        640: 100% 482/482 [03:14<00:00,  2.47it/s]\n",
      "                 Class     Images  Instances      Box(P          R      mAP50  mAP50-95): 100% 11/11 [00:05<00:00,  2.02it/s]\n",
      "                   all        327        345      0.603      0.391      0.415      0.268\n",
      "\n",
      "      Epoch    GPU_mem   box_loss   cls_loss   dfl_loss  Instances       Size\n",
      "       2/10      4.33G       1.53      2.055      1.802         12        640: 100% 482/482 [03:07<00:00,  2.58it/s]\n",
      "                 Class     Images  Instances      Box(P          R      mAP50  mAP50-95): 100% 11/11 [00:05<00:00,  1.86it/s]\n",
      "                   all        327        345      0.354      0.282      0.276      0.173\n",
      "\n",
      "      Epoch    GPU_mem   box_loss   cls_loss   dfl_loss  Instances       Size\n",
      "       3/10      4.33G      1.487      1.896      1.758         19        640: 100% 482/482 [03:03<00:00,  2.63it/s]\n",
      "                 Class     Images  Instances      Box(P          R      mAP50  mAP50-95): 100% 11/11 [00:05<00:00,  1.89it/s]\n",
      "                   all        327        345      0.618      0.458      0.466      0.312\n",
      "\n",
      "      Epoch    GPU_mem   box_loss   cls_loss   dfl_loss  Instances       Size\n",
      "       4/10      4.35G      1.407      1.725      1.689         13        640: 100% 482/482 [03:05<00:00,  2.60it/s]\n",
      "                 Class     Images  Instances      Box(P          R      mAP50  mAP50-95): 100% 11/11 [00:03<00:00,  3.15it/s]\n",
      "                   all        327        345      0.417      0.505      0.445      0.288\n",
      "\n",
      "      Epoch    GPU_mem   box_loss   cls_loss   dfl_loss  Instances       Size\n",
      "       5/10      4.33G      1.327      1.538      1.602         11        640:  90% 432/482 [02:46<00:19,  2.54it/s]"
     ]
    }
   ],
   "source": [
    "%cd {HOME}\n",
    "\n",
    "!yolo task=detect mode=train model=yolo11s.pt data={dataset.location}/data.yaml epochs=150 imgsz=640 plots=True"
   ]
  },
  {
   "cell_type": "code",
   "execution_count": null,
   "metadata": {
    "id": "gOInGjSmh_GV"
   },
   "outputs": [],
   "source": [
    "!ls {HOME}/runs/detect/train/"
   ]
  },
  {
   "cell_type": "code",
   "execution_count": null,
   "metadata": {
    "id": "C6WJlbA8iAp1"
   },
   "outputs": [],
   "source": [
    "from IPython.display import Image as IPyImage\n",
    "\n",
    "IPyImage(filename=f'{HOME}/runs/detect/train/confusion_matrix.png', width=600)"
   ]
  },
  {
   "cell_type": "code",
   "execution_count": null,
   "metadata": {
    "id": "Ym53TgSMiCzF"
   },
   "outputs": [],
   "source": [
    "from IPython.display import Image as IPyImage\n",
    "\n",
    "IPyImage(filename=f'{HOME}/runs/detect/train/results.png', width=600)"
   ]
  },
  {
   "cell_type": "code",
   "execution_count": null,
   "metadata": {
    "id": "Ou5Br_wsiEdl"
   },
   "outputs": [],
   "source": [
    "from IPython.display import Image as IPyImage\n",
    "\n",
    "IPyImage(filename=f'{HOME}/runs/detect/train/val_batch0_pred.jpg', width=600)"
   ]
  },
  {
   "cell_type": "code",
   "execution_count": null,
   "metadata": {
    "id": "a2aglG6oiHht"
   },
   "outputs": [],
   "source": [
    "!yolo task=detect mode=val model={HOME}/runs/detect/train/weights/best.pt data={dataset.location}/data.yaml"
   ]
  },
  {
   "cell_type": "code",
   "execution_count": null,
   "metadata": {
    "id": "SrmSn_H0iK81"
   },
   "outputs": [],
   "source": [
    "!yolo task=detect mode=predict model={HOME}/runs/detect/train/weights/best.pt conf=0.25 source={dataset.location}/test/images save=True"
   ]
  },
  {
   "cell_type": "code",
   "execution_count": null,
   "metadata": {
    "id": "Sm6QfvtJiMw2"
   },
   "outputs": [],
   "source": [
    "import glob\n",
    "import os\n",
    "from IPython.display import Image as IPyImage, display\n",
    "\n",
    "latest_folder = max(glob.glob('/content/runs/detect/predict*/'), key=os.path.getmtime)\n",
    "for img in glob.glob(f'{latest_folder}/*.jpg')[:3]:\n",
    "    display(IPyImage(filename=img, width=600))\n",
    "    print(\"\\n\")"
   ]
  },
  {
   "cell_type": "markdown",
   "metadata": {
    "id": "avhGRiWNiURc"
   },
   "source": [
    "download the content\n"
   ]
  },
  {
   "cell_type": "code",
   "execution_count": null,
   "metadata": {
    "colab": {
     "base_uri": "https://localhost:8080/"
    },
    "id": "OCZb_ntuiZK8",
    "outputId": "823a8181-9a7f-4d9b-9be4-315e720570b4"
   },
   "outputs": [
    {
     "name": "stdout",
     "output_type": "stream",
     "text": [
      "/content\n"
     ]
    }
   ],
   "source": [
    "%cd /content/"
   ]
  },
  {
   "cell_type": "code",
   "execution_count": null,
   "metadata": {
    "colab": {
     "base_uri": "https://localhost:8080/"
    },
    "id": "Q7c2mFzSibZt",
    "outputId": "bc1b0356-9d9d-4d7f-facd-72fedb9e06b7"
   },
   "outputs": [
    {
     "name": "stdout",
     "output_type": "stream",
     "text": [
      "  adding: datasets/ (stored 0%)\n",
      "  adding: datasets/collard-bokchoy-2/ (stored 0%)\n",
      "  adding: datasets/collard-bokchoy-2/valid/ (stored 0%)\n",
      "  adding: datasets/collard-bokchoy-2/valid/images/ (stored 0%)\n",
      "  adding: datasets/collard-bokchoy-2/valid/images/14_jpg.rf.b85e3afd1bf4c324de53ea8abcf56362.jpg (deflated 0%)\n",
      "  adding: datasets/collard-bokchoy-2/valid/images/45_jpg.rf.62204f1dad409ace92f903d6019a53e7.jpg (deflated 13%)\n",
      "  adding: datasets/collard-bokchoy-2/valid/images/54_jpg.rf.2dbb7cef449cb72361eecfc109a7cacf.jpg (deflated 0%)\n",
      "  adding: datasets/collard-bokchoy-2/valid/images/32_jpg.rf.8e5a38805fcc2781e7a9a73421011f7f.jpg (deflated 12%)\n",
      "  adding: datasets/collard-bokchoy-2/valid/images/43_jpg.rf.e42f3b8db4f540de1c80305e447a09e3.jpg (deflated 14%)\n",
      "  adding: datasets/collard-bokchoy-2/valid/images/31_jpg.rf.f7139e0c1532ffadf3900ff79123e061.jpg (deflated 0%)\n",
      "  adding: datasets/collard-bokchoy-2/valid/images/43_jpg.rf.768db9ce9ec1b605cfd1eac04e65a5e0.jpg (deflated 6%)\n",
      "  adding: datasets/collard-bokchoy-2/valid/images/73_jpg.rf.44372da32e0385bec500bae0ace927e4.jpg (deflated 6%)\n",
      "  adding: datasets/collard-bokchoy-2/valid/images/44_jpg.rf.50208e64d16cf01df39592e816d9fd32.jpg (deflated 4%)\n",
      "  adding: datasets/collard-bokchoy-2/valid/images/60_jpg.rf.ff8d3225aa49728b32ca593a371b0fa4.jpg (deflated 14%)\n",
      "  adding: datasets/collard-bokchoy-2/valid/images/70_jpg.rf.470e31f22826501ff0927b2269b1e867.jpg (deflated 13%)\n",
      "  adding: datasets/collard-bokchoy-2/valid/images/87_jpg.rf.319ac44bcf6f700b8f4db4d5467047e5.jpg (deflated 0%)\n",
      "  adding: datasets/collard-bokchoy-2/valid/images/72_jpg.rf.843ddfaeece57fc32418577c674c8ee7.jpg (deflated 0%)\n",
      "  adding: datasets/collard-bokchoy-2/valid/images/39_jpg.rf.adb75b507069a67a307a5b7e647ff177.jpg (deflated 0%)\n",
      "  adding: datasets/collard-bokchoy-2/valid/images/61_jpg.rf.a1f4c910082628ad87d2a648112385f2.jpg (deflated 3%)\n",
      "  adding: datasets/collard-bokchoy-2/valid/images/68_jpg.rf.8f5563dd94104dd6862f1af10f406984.jpg (deflated 9%)\n",
      "  adding: datasets/collard-bokchoy-2/valid/images/45_jpg.rf.19638a7a2737fc6fe483690a485b695d.jpg (deflated 21%)\n",
      "  adding: datasets/collard-bokchoy-2/valid/images/95_jpg.rf.faa819989c9cf9de38eebd1bd24d6266.jpg (deflated 8%)\n",
      "  adding: datasets/collard-bokchoy-2/valid/images/36_jpg.rf.161616e384dc15a33cc5723fbbd41f1c.jpg (deflated 0%)\n",
      "  adding: datasets/collard-bokchoy-2/valid/images/77_jpg.rf.44dad2489f9f4882b465d2edd686cb43.jpg (deflated 0%)\n",
      "  adding: datasets/collard-bokchoy-2/valid/images/27_jpg.rf.7470338e21025a061703c39c300d0bbc.jpg (deflated 7%)\n",
      "  adding: datasets/collard-bokchoy-2/valid/images/49_jpg.rf.0b25d6eab7e0c26d00005609846691f9.jpg (deflated 0%)\n",
      "  adding: datasets/collard-bokchoy-2/valid/images/1_jpg.rf.6cb7d1a5962de23139f929a7a65d3889.jpg (deflated 3%)\n",
      "  adding: datasets/collard-bokchoy-2/valid/images/97_jpg.rf.b720a9da2927e5fe10d8f93500675afa.jpg (deflated 6%)\n",
      "  adding: datasets/collard-bokchoy-2/valid/images/16_jpg.rf.f619908ff2f2be448092b22381ab8b8b.jpg (deflated 4%)\n",
      "  adding: datasets/collard-bokchoy-2/valid/images/37_jpg.rf.85e70a1092ca1f57250c5b29a431d0c3.jpg (deflated 8%)\n",
      "  adding: datasets/collard-bokchoy-2/valid/images/47_jpg.rf.d0260472970ed3322ec2b2ecd72bd097.jpg (deflated 8%)\n",
      "  adding: datasets/collard-bokchoy-2/valid/images/46_jpg.rf.7abbfd3f695aaacc87bdc82fbcac48d3.jpg (deflated 0%)\n",
      "  adding: datasets/collard-bokchoy-2/valid/images/67_jpg.rf.9abc7546be1172262a09d1ba5de29ad7.jpg (deflated 0%)\n",
      "  adding: datasets/collard-bokchoy-2/valid/images/60_jpg.rf.f0dbf8a5865abbf33b6359b2c2cf19ba.jpg (deflated 0%)\n",
      "  adding: datasets/collard-bokchoy-2/valid/images/53_jpg.rf.c4341ff7a38dd66985cbe682e614df08.jpg (deflated 0%)\n",
      "  adding: datasets/collard-bokchoy-2/valid/images/26_jpg.rf.40da8c745a40724941a6e346f8aea83c.jpg (deflated 0%)\n",
      "  adding: datasets/collard-bokchoy-2/valid/images/20_jpg.rf.594ef13b6635915525f9ae47a8994ba6.jpg (deflated 0%)\n",
      "  adding: datasets/collard-bokchoy-2/valid/images/88_jpg.rf.3b533faa053e3966f0ebb2d3cd54cbf3.jpg (deflated 0%)\n",
      "  adding: datasets/collard-bokchoy-2/valid/labels.cache (deflated 62%)\n",
      "  adding: datasets/collard-bokchoy-2/valid/labels/ (stored 0%)\n",
      "  adding: datasets/collard-bokchoy-2/valid/labels/27_jpg.rf.7470338e21025a061703c39c300d0bbc.txt (deflated 35%)\n",
      "  adding: datasets/collard-bokchoy-2/valid/labels/68_jpg.rf.8f5563dd94104dd6862f1af10f406984.txt (deflated 27%)\n",
      "  adding: datasets/collard-bokchoy-2/valid/labels/49_jpg.rf.0b25d6eab7e0c26d00005609846691f9.txt (deflated 16%)\n",
      "  adding: datasets/collard-bokchoy-2/valid/labels/73_jpg.rf.44372da32e0385bec500bae0ace927e4.txt (deflated 21%)\n",
      "  adding: datasets/collard-bokchoy-2/valid/labels/61_jpg.rf.a1f4c910082628ad87d2a648112385f2.txt (deflated 14%)\n",
      "  adding: datasets/collard-bokchoy-2/valid/labels/53_jpg.rf.c4341ff7a38dd66985cbe682e614df08.txt (deflated 21%)\n",
      "  adding: datasets/collard-bokchoy-2/valid/labels/67_jpg.rf.9abc7546be1172262a09d1ba5de29ad7.txt (deflated 27%)\n",
      "  adding: datasets/collard-bokchoy-2/valid/labels/32_jpg.rf.8e5a38805fcc2781e7a9a73421011f7f.txt (deflated 23%)\n",
      "  adding: datasets/collard-bokchoy-2/valid/labels/72_jpg.rf.843ddfaeece57fc32418577c674c8ee7.txt (deflated 19%)\n",
      "  adding: datasets/collard-bokchoy-2/valid/labels/97_jpg.rf.b720a9da2927e5fe10d8f93500675afa.txt (deflated 27%)\n",
      "  adding: datasets/collard-bokchoy-2/valid/labels/37_jpg.rf.85e70a1092ca1f57250c5b29a431d0c3.txt (deflated 12%)\n",
      "  adding: datasets/collard-bokchoy-2/valid/labels/43_jpg.rf.e42f3b8db4f540de1c80305e447a09e3.txt (deflated 16%)\n",
      "  adding: datasets/collard-bokchoy-2/valid/labels/60_jpg.rf.ff8d3225aa49728b32ca593a371b0fa4.txt (deflated 18%)\n",
      "  adding: datasets/collard-bokchoy-2/valid/labels/60_jpg.rf.f0dbf8a5865abbf33b6359b2c2cf19ba.txt (deflated 18%)\n",
      "  adding: datasets/collard-bokchoy-2/valid/labels/87_jpg.rf.319ac44bcf6f700b8f4db4d5467047e5.txt (deflated 17%)\n",
      "  adding: datasets/collard-bokchoy-2/valid/labels/45_jpg.rf.19638a7a2737fc6fe483690a485b695d.txt (deflated 15%)\n",
      "  adding: datasets/collard-bokchoy-2/valid/labels/45_jpg.rf.62204f1dad409ace92f903d6019a53e7.txt (deflated 20%)\n",
      "  adding: datasets/collard-bokchoy-2/valid/labels/47_jpg.rf.d0260472970ed3322ec2b2ecd72bd097.txt (deflated 17%)\n",
      "  adding: datasets/collard-bokchoy-2/valid/labels/44_jpg.rf.50208e64d16cf01df39592e816d9fd32.txt (deflated 26%)\n",
      "  adding: datasets/collard-bokchoy-2/valid/labels/14_jpg.rf.b85e3afd1bf4c324de53ea8abcf56362.txt (deflated 10%)\n",
      "  adding: datasets/collard-bokchoy-2/valid/labels/54_jpg.rf.2dbb7cef449cb72361eecfc109a7cacf.txt (deflated 15%)\n",
      "  adding: datasets/collard-bokchoy-2/valid/labels/36_jpg.rf.161616e384dc15a33cc5723fbbd41f1c.txt (deflated 13%)\n",
      "  adding: datasets/collard-bokchoy-2/valid/labels/46_jpg.rf.7abbfd3f695aaacc87bdc82fbcac48d3.txt (deflated 14%)\n",
      "  adding: datasets/collard-bokchoy-2/valid/labels/70_jpg.rf.470e31f22826501ff0927b2269b1e867.txt (deflated 15%)\n",
      "  adding: datasets/collard-bokchoy-2/valid/labels/95_jpg.rf.faa819989c9cf9de38eebd1bd24d6266.txt (deflated 23%)\n",
      "  adding: datasets/collard-bokchoy-2/valid/labels/39_jpg.rf.adb75b507069a67a307a5b7e647ff177.txt (deflated 20%)\n",
      "  adding: datasets/collard-bokchoy-2/valid/labels/77_jpg.rf.44dad2489f9f4882b465d2edd686cb43.txt (deflated 27%)\n",
      "  adding: datasets/collard-bokchoy-2/valid/labels/88_jpg.rf.3b533faa053e3966f0ebb2d3cd54cbf3.txt (deflated 24%)\n",
      "  adding: datasets/collard-bokchoy-2/valid/labels/16_jpg.rf.f619908ff2f2be448092b22381ab8b8b.txt (deflated 18%)\n",
      "  adding: datasets/collard-bokchoy-2/valid/labels/1_jpg.rf.6cb7d1a5962de23139f929a7a65d3889.txt (deflated 24%)\n",
      "  adding: datasets/collard-bokchoy-2/valid/labels/43_jpg.rf.768db9ce9ec1b605cfd1eac04e65a5e0.txt (deflated 18%)\n",
      "  adding: datasets/collard-bokchoy-2/valid/labels/20_jpg.rf.594ef13b6635915525f9ae47a8994ba6.txt (deflated 28%)\n",
      "  adding: datasets/collard-bokchoy-2/valid/labels/26_jpg.rf.40da8c745a40724941a6e346f8aea83c.txt (deflated 15%)\n",
      "  adding: datasets/collard-bokchoy-2/valid/labels/31_jpg.rf.f7139e0c1532ffadf3900ff79123e061.txt (deflated 23%)\n",
      "  adding: datasets/collard-bokchoy-2/data.yaml (deflated 35%)\n",
      "  adding: datasets/collard-bokchoy-2/README.dataset.txt (deflated 16%)\n",
      "  adding: datasets/collard-bokchoy-2/train/ (stored 0%)\n",
      "  adding: datasets/collard-bokchoy-2/train/images/ (stored 0%)\n",
      "  adding: datasets/collard-bokchoy-2/train/images/12_jpg.rf.766e79bdbbe6c38a97304efb7d02d1a9.jpg (deflated 18%)\n",
      "  adding: datasets/collard-bokchoy-2/train/images/85_jpg.rf.a2cfb77ef6268beca52665c871498f09.jpg (deflated 16%)\n",
      "  adding: datasets/collard-bokchoy-2/train/images/17_jpg.rf.0c5874059949a739f40b97188586f05c.jpg (deflated 30%)\n",
      "  adding: datasets/collard-bokchoy-2/train/images/29_jpg.rf.cd49e3ba068d4d5d59a179d7e789a0d7.jpg (deflated 16%)\n",
      "  adding: datasets/collard-bokchoy-2/train/images/82_jpg.rf.d59218e716888e1a7dfb5d66f7c1e00d.jpg (deflated 29%)\n",
      "  adding: datasets/collard-bokchoy-2/train/images/62_jpg.rf.3603dd56919d42e0d810d0645c182692.jpg (deflated 1%)\n",
      "  adding: datasets/collard-bokchoy-2/train/images/50_jpg.rf.81ff4c9d6d73f0559c3154c2a7729062.jpg (deflated 9%)\n",
      "  adding: datasets/collard-bokchoy-2/train/images/64_jpg.rf.78636d236dedd8b5cd9fc19e3e0758db.jpg (deflated 7%)\n",
      "  adding: datasets/collard-bokchoy-2/train/images/48_jpg.rf.018382e753dc656722301ce00077640a.jpg (deflated 8%)\n",
      "  adding: datasets/collard-bokchoy-2/train/images/89_jpg.rf.2da961dc8d58e548cf5b3254193c83a2.jpg (deflated 0%)\n",
      "  adding: datasets/collard-bokchoy-2/train/images/59_jpg.rf.2efceea711525875b3879889bf98d802.jpg (deflated 0%)\n",
      "  adding: datasets/collard-bokchoy-2/train/images/82_jpg.rf.0959d45fc6d7df692152ba430de97478.jpg (deflated 0%)\n",
      "  adding: datasets/collard-bokchoy-2/train/images/50_jpg.rf.c4822c2936ba4d60c16505c09d56af2e.jpg (deflated 5%)\n",
      "  adding: datasets/collard-bokchoy-2/train/images/66_jpg.rf.9c3919014e1c24aaadfb13d5b618d625.jpg (deflated 2%)\n",
      "  adding: datasets/collard-bokchoy-2/train/images/69_jpg.rf.cc3d91bbd656d7c8eabf598642f26803.jpg (deflated 0%)\n",
      "  adding: datasets/collard-bokchoy-2/train/images/11_jpg.rf.b84e0ba38b2b7d7ddf486d2439af0f1f.jpg (deflated 4%)\n",
      "  adding: datasets/collard-bokchoy-2/train/images/58_jpg.rf.3e64b8c56d0ead15cad08b2d0585a2e9.jpg (deflated 7%)\n",
      "  adding: datasets/collard-bokchoy-2/train/images/74_jpg.rf.408644dfe89d8944181f2f765019a418.jpg (deflated 0%)\n",
      "  adding: datasets/collard-bokchoy-2/train/images/4_jpg.rf.00b8205d143f3e715e3c79043db2ec54.jpg (deflated 15%)\n",
      "  adding: datasets/collard-bokchoy-2/train/images/24_jpg.rf.cafd36d7681b9825e058ad4b1a8ea10a.jpg (deflated 0%)\n",
      "  adding: datasets/collard-bokchoy-2/train/images/74_jpg.rf.9a8bfd8acf2317f94ee9412bb649b7be.jpg (deflated 0%)\n",
      "  adding: datasets/collard-bokchoy-2/train/images/3_jpg.rf.b93dafba56af4fcfe294547645ea5e7b.jpg (deflated 6%)\n",
      "  adding: datasets/collard-bokchoy-2/train/images/64_jpg.rf.b6fbf6c8e139837b98af5820f2d88868.jpg (deflated 8%)\n",
      "  adding: datasets/collard-bokchoy-2/train/images/38_jpg.rf.c863eaac6c1b4d94030d64e0309e1098.jpg (deflated 3%)\n",
      "  adding: datasets/collard-bokchoy-2/train/images/18_jpg.rf.2bdae460ceb9f6496a6a76d99e98aadd.jpg (deflated 7%)\n",
      "  adding: datasets/collard-bokchoy-2/train/images/2_jpg.rf.5723a22d46e15e98cb8139934b92a257.jpg (deflated 9%)\n",
      "  adding: datasets/collard-bokchoy-2/train/images/84_jpg.rf.e41e843e6ac535362fbb366048dfae93.jpg (deflated 1%)\n",
      "  adding: datasets/collard-bokchoy-2/train/images/55_jpg.rf.8b25b37dc85d09df140dd21ef109da07.jpg (deflated 6%)\n",
      "  adding: datasets/collard-bokchoy-2/train/images/15_jpg.rf.82e4eae759d6249d08160e87392915ee.jpg (deflated 3%)\n",
      "  adding: datasets/collard-bokchoy-2/train/images/62_jpg.rf.1872bee6738e74e80c92c9a02f514c14.jpg (deflated 6%)\n",
      "  adding: datasets/collard-bokchoy-2/train/images/73_jpg.rf.c5a5a9a2ea4ad649c71eeaddb057f328.jpg (deflated 8%)\n",
      "  adding: datasets/collard-bokchoy-2/train/images/23_jpg.rf.22a39520fd56f3a76f46f37d3d80da36.jpg (deflated 3%)\n",
      "  adding: datasets/collard-bokchoy-2/train/images/46_jpg.rf.1c856170335cee42989883e367060a2e.jpg (deflated 17%)\n",
      "  adding: datasets/collard-bokchoy-2/train/images/13_jpg.rf.6f3c43ce60cd9c64cf3f1e70d9b3a4d4.jpg (deflated 0%)\n",
      "  adding: datasets/collard-bokchoy-2/train/images/57_jpg.rf.4d718a36e8c7a99354cf7534d39f97f0.jpg (deflated 6%)\n",
      "  adding: datasets/collard-bokchoy-2/train/images/4_jpg.rf.7c85c1298b6fcb7611be84f6bc4dae32.jpg (deflated 1%)\n",
      "  adding: datasets/collard-bokchoy-2/train/images/71_jpg.rf.04bd2000d535f7ab6af340af4467999c.jpg (deflated 0%)\n",
      "  adding: datasets/collard-bokchoy-2/train/images/10_jpg.rf.9f970a071bc90fd0f439858f92c2af52.jpg (deflated 4%)\n",
      "  adding: datasets/collard-bokchoy-2/train/images/80_png.rf.9149838301e265585971f717f980c78c.jpg (deflated 7%)\n",
      "  adding: datasets/collard-bokchoy-2/train/images/41_jpg.rf.0687baa5591c83b2ff849812057a4f0c.jpg (deflated 13%)\n",
      "  adding: datasets/collard-bokchoy-2/train/images/21_jpg.rf.1108516dee545c0d2d931f78b258d55f.jpg (deflated 21%)\n",
      "  adding: datasets/collard-bokchoy-2/train/images/19_jpg.rf.bc491d60f0b3f84b13d9661d9fdc3b8b.jpg (deflated 15%)\n",
      "  adding: datasets/collard-bokchoy-2/train/images/99_jpg.rf.c63d503cfb293374651817a5a15a265e.jpg (deflated 19%)\n",
      "  adding: datasets/collard-bokchoy-2/train/images/29_jpg.rf.08c640b3bbad649da93d9d48a8f04abe.jpg (deflated 5%)\n",
      "  adding: datasets/collard-bokchoy-2/train/images/22_jpg.rf.16d1f367284491c58d7286ec0caa9747.jpg (deflated 21%)\n",
      "  adding: datasets/collard-bokchoy-2/train/images/100_jpg.rf.9ed006ba9c3cad6d87a4397dfb221738.jpg (deflated 16%)\n",
      "  adding: datasets/collard-bokchoy-2/train/images/63_jpg.rf.721687f5cb29c9a6d892bc7db4b91d1b.jpg (deflated 0%)\n",
      "  adding: datasets/collard-bokchoy-2/train/images/52_jpg.rf.05dc5a7bcfe44f67256624c679fb3648.jpg (deflated 23%)\n",
      "  adding: datasets/collard-bokchoy-2/train/images/67_jpg.rf.7bb46b320a94171f4b49e3fbf71f6bd8.jpg (deflated 0%)\n",
      "  adding: datasets/collard-bokchoy-2/train/images/23_jpg.rf.42ff1fe4940d8f0f9220d85d3d7e651a.jpg (deflated 22%)\n",
      "  adding: datasets/collard-bokchoy-2/train/images/71_jpg.rf.647b5ff5a2c01a6b6dd1b69b6791bdb0.jpg (deflated 6%)\n",
      "  adding: datasets/collard-bokchoy-2/train/images/100_jpg.rf.dfc3cd8406e012891a28b526513fca8b.jpg (deflated 2%)\n",
      "  adding: datasets/collard-bokchoy-2/train/images/41_jpg.rf.b5bb719579c04ee9a9ebacd8188f0ea7.jpg (deflated 0%)\n",
      "  adding: datasets/collard-bokchoy-2/train/images/12_jpg.rf.6ea2f9297e58de0aa688015923278d2a.jpg (deflated 4%)\n",
      "  adding: datasets/collard-bokchoy-2/train/images/5_jpg.rf.412f7db4ff00ed2df5d0d34c0dff1c3b.jpg (deflated 4%)\n",
      "  adding: datasets/collard-bokchoy-2/train/images/21_jpg.rf.ac85c3226fabe6b54718ebc6d9358a86.jpg (deflated 10%)\n",
      "  adding: datasets/collard-bokchoy-2/train/images/32_jpg.rf.91966c10d37cd5c792afeccf5dc9778b.jpg (deflated 18%)\n",
      "  adding: datasets/collard-bokchoy-2/train/images/19_jpg.rf.2772ae872baf69902c823279fdbce511.jpg (deflated 14%)\n",
      "  adding: datasets/collard-bokchoy-2/train/images/78_jpg.rf.4cb804a4373b9e667c41a2d50ee537f1.jpg (deflated 5%)\n",
      "  adding: datasets/collard-bokchoy-2/train/images/90_jpg.rf.d06e323292fab2d6bc9aa02a600c8ca3.jpg (deflated 11%)\n",
      "  adding: datasets/collard-bokchoy-2/train/images/92_jpg.rf.159de7fa74a2e306a54aa7f4e9147b45.jpg (deflated 12%)\n",
      "  adding: datasets/collard-bokchoy-2/train/images/88_jpg.rf.a80058889da56f0bff873aa7ea583921.jpg (deflated 1%)\n",
      "  adding: datasets/collard-bokchoy-2/train/images/13_jpg.rf.999eda6fae1f7b91ce95c33c3d6b2a2a.jpg (deflated 18%)\n",
      "  adding: datasets/collard-bokchoy-2/train/images/65_jpg.rf.c53e5ff9fb9d7931c38ccf9e79d62d66.jpg (deflated 7%)\n",
      "  adding: datasets/collard-bokchoy-2/train/images/85_jpeg.rf.ab14a21cdc7cac7978b4df355918fa8e.jpg (deflated 8%)\n",
      "  adding: datasets/collard-bokchoy-2/train/images/93_jpg.rf.8622bc7a431b0c9769308ad21e7666ba.jpg (deflated 0%)\n",
      "  adding: datasets/collard-bokchoy-2/train/images/49_jpg.rf.a2eafc57b5f367df52399a004b6253fa.jpg (deflated 14%)\n",
      "  adding: datasets/collard-bokchoy-2/train/images/34_jpg.rf.abf80f1d9df2e1d343aee7bd7036956a.jpg (deflated 0%)\n",
      "  adding: datasets/collard-bokchoy-2/train/images/86_jpg.rf.c60cd228b00bcaedeba37c91b8167f9b.jpg (deflated 23%)\n",
      "  adding: datasets/collard-bokchoy-2/train/images/66_jpg.rf.6d93a093d18016b279cf7ccfa8cf7cd9.jpg (deflated 0%)\n",
      "  adding: datasets/collard-bokchoy-2/train/images/57_jpg.rf.2bfb296150945ee2ad91e959f7637fe5.jpg (deflated 5%)\n",
      "  adding: datasets/collard-bokchoy-2/train/images/15_jpg.rf.16652baa0d4dbceecc5481deae52cf20.jpg (deflated 0%)\n",
      "  adding: datasets/collard-bokchoy-2/train/images/54_jpg.rf.6b8101cf974699935313787a97766296.jpg (deflated 6%)\n",
      "  adding: datasets/collard-bokchoy-2/train/images/33_jpg.rf.c16fc70165880e26e5fe4cf22cc445f6.jpg (deflated 16%)\n",
      "  adding: datasets/collard-bokchoy-2/train/images/26_jpg.rf.8d3bad4e0153ddf433be1ddcd43d460a.jpg (deflated 5%)\n",
      "  adding: datasets/collard-bokchoy-2/train/images/92_jpg.rf.578e71d078091fc7a5b4a4adf7540a05.jpg (deflated 0%)\n",
      "  adding: datasets/collard-bokchoy-2/train/images/7_jpg.rf.161f19a9832453faf6c928134deaf531.jpg (deflated 13%)\n",
      "  adding: datasets/collard-bokchoy-2/train/images/75_jpg.rf.556ab70dfac829d52a50af16933da42f.jpg (deflated 2%)\n",
      "  adding: datasets/collard-bokchoy-2/train/images/76_jpg.rf.997b9be47184e385597f596dd037ae94.jpg (deflated 1%)\n",
      "  adding: datasets/collard-bokchoy-2/train/images/79_jpg.rf.b4124dfc64e3fbc36105fdb0395b20ca.jpg (deflated 0%)\n",
      "  adding: datasets/collard-bokchoy-2/train/images/70_jpg.rf.30fea8e43f38acba51831ebe7e8a9a9d.jpg (deflated 12%)\n",
      "  adding: datasets/collard-bokchoy-2/train/images/40_jpg.rf.0a1e2f419e485b418208daf3a8cc5194.jpg (deflated 1%)\n",
      "  adding: datasets/collard-bokchoy-2/train/images/52_jpg.rf.d1f00bb1ad0e28947752ab889e70d7d3.jpg (deflated 0%)\n",
      "  adding: datasets/collard-bokchoy-2/train/images/24_jpg.rf.d4a879fb94b860cf8822629186dbdfb4.jpg (deflated 5%)\n",
      "  adding: datasets/collard-bokchoy-2/train/images/25_jpg.rf.d43a38be935903fba8158ee6529c9396.jpg (deflated 3%)\n",
      "  adding: datasets/collard-bokchoy-2/train/images/18_jpg.rf.676e208819400d1e40284975d0d6f43c.jpg (deflated 23%)\n",
      "  adding: datasets/collard-bokchoy-2/train/images/28_jpg.rf.27a6e8bb1c266c3b4fe6ba17ca02d4ad.jpg (deflated 7%)\n",
      "  adding: datasets/collard-bokchoy-2/train/images/55_jpg.rf.a3f1ba29bdf1ba38e047c627af6981b4.jpg (deflated 1%)\n",
      "  adding: datasets/collard-bokchoy-2/train/images/44_jpg.rf.078fc108170d813a9784113c8430fe2a.jpg (deflated 1%)\n",
      "  adding: datasets/collard-bokchoy-2/train/images/30_jpg.rf.5c51a092fa5e2d64a16ece929fad0105.jpg (deflated 16%)\n",
      "  adding: datasets/collard-bokchoy-2/train/images/17_jpg.rf.7659de3a75d63e6ab935661733bdd53b.jpg (deflated 9%)\n",
      "  adding: datasets/collard-bokchoy-2/train/images/51_jpg.rf.10d08e4f53a7f545a1a2acd26bc68e32.jpg (deflated 13%)\n",
      "  adding: datasets/collard-bokchoy-2/train/images/48_jpg.rf.b6e0a78dd79b16b7538b71b225987b86.jpg (deflated 6%)\n",
      "  adding: datasets/collard-bokchoy-2/train/images/22_jpg.rf.fde0d90073136ae13568d205e30e421d.jpg (deflated 3%)\n",
      "  adding: datasets/collard-bokchoy-2/train/images/35_jpg.rf.77d227984ecc928692ee54fd9b1b12fb.jpg (deflated 15%)\n",
      "  adding: datasets/collard-bokchoy-2/train/images/96_jpg.rf.7a79c35f10eb52f593e67261ce5a4d72.jpg (deflated 0%)\n",
      "  adding: datasets/collard-bokchoy-2/train/images/30_jpg.rf.44778ee6f5c4ab2b8f289b40247c49ca.jpg (deflated 13%)\n",
      "  adding: datasets/collard-bokchoy-2/train/images/77_jpg.rf.ddbf643f75e6a6e5665a6a418e39a28f.jpg (deflated 7%)\n",
      "  adding: datasets/collard-bokchoy-2/train/images/61_jpg.rf.12be1492e02dff5b638b5278b5b5e91b.jpg (deflated 0%)\n",
      "  adding: datasets/collard-bokchoy-2/train/images/91_jpg.rf.c09958aad36762a7867dfad7ddcf3e92.jpg (deflated 0%)\n",
      "  adding: datasets/collard-bokchoy-2/train/images/83_jpg.rf.98649220945a08d0e427507a54800620.jpg (deflated 9%)\n",
      "  adding: datasets/collard-bokchoy-2/train/images/2_jpg.rf.139ea93a858337290b55b19679e717c0.jpg (deflated 9%)\n",
      "  adding: datasets/collard-bokchoy-2/train/images/56_jpg.rf.d64dbf071b4d2841aee96b5051c5c0ad.jpg (deflated 1%)\n",
      "  adding: datasets/collard-bokchoy-2/train/images/6_jpg.rf.ee0b760699f03bce172dd7d62bbd32fb.jpg (deflated 8%)\n",
      "  adding: datasets/collard-bokchoy-2/train/images/9_jpg.rf.06e956447938423ad29b5c47f72cd05e.jpg (deflated 12%)\n",
      "  adding: datasets/collard-bokchoy-2/train/images/5_jpg.rf.a0d455f0b8219cdc0a0f03f2619ae6db.jpg (deflated 6%)\n",
      "  adding: datasets/collard-bokchoy-2/train/images/1_jpg.rf.3d15dc1d9a1a9cb541449856ff024ef2.jpg (deflated 0%)\n",
      "  adding: datasets/collard-bokchoy-2/train/images/72_jpg.rf.68562e5b3bc8b47aff485af1b71e38e7.jpg (deflated 0%)\n",
      "  adding: datasets/collard-bokchoy-2/train/images/76_jpg.rf.e6056277595371432d0f11998ed09755.jpg (deflated 5%)\n",
      "  adding: datasets/collard-bokchoy-2/train/images/31_jpg.rf.5ec1341deafbdfda26d47c1979edb882.jpg (deflated 10%)\n",
      "  adding: datasets/collard-bokchoy-2/train/images/56_jpg.rf.8d362d13a76802e2abbad905b7a3319e.jpg (deflated 9%)\n",
      "  adding: datasets/collard-bokchoy-2/train/images/39_jpg.rf.263cd48679d1e7ea57360ce4ff457057.jpg (deflated 10%)\n",
      "  adding: datasets/collard-bokchoy-2/train/images/94_jpg.rf.3ad4e8dac709be9aa4669aca8917d965.jpg (deflated 0%)\n",
      "  adding: datasets/collard-bokchoy-2/train/images/8_png.rf.40e9a37e04695b4ff1fa077b66aaf0fd.jpg (deflated 7%)\n",
      "  adding: datasets/collard-bokchoy-2/train/images/35_jpg.rf.19f54689ad10913aae8b396b02a133b9.jpg (deflated 0%)\n",
      "  adding: datasets/collard-bokchoy-2/train/images/27_jpg.rf.ae3108eaebac297be0956f694a5daf77.jpg (deflated 19%)\n",
      "  adding: datasets/collard-bokchoy-2/train/images/28_jpg.rf.8456e34aa4f24d3baa1f0281dd7cfc2e.jpg (deflated 2%)\n",
      "  adding: datasets/collard-bokchoy-2/train/images/6_jpg.rf.bbc207f4d84526ee75a254a0a8c232eb.jpg (deflated 5%)\n",
      "  adding: datasets/collard-bokchoy-2/train/labels.cache (deflated 67%)\n",
      "  adding: datasets/collard-bokchoy-2/train/labels/ (stored 0%)\n",
      "  adding: datasets/collard-bokchoy-2/train/labels/85_jpeg.rf.ab14a21cdc7cac7978b4df355918fa8e.txt (deflated 18%)\n",
      "  adding: datasets/collard-bokchoy-2/train/labels/56_jpg.rf.8d362d13a76802e2abbad905b7a3319e.txt (deflated 24%)\n",
      "  adding: datasets/collard-bokchoy-2/train/labels/66_jpg.rf.9c3919014e1c24aaadfb13d5b618d625.txt (deflated 16%)\n",
      "  adding: datasets/collard-bokchoy-2/train/labels/61_jpg.rf.12be1492e02dff5b638b5278b5b5e91b.txt (deflated 8%)\n",
      "  adding: datasets/collard-bokchoy-2/train/labels/63_jpg.rf.721687f5cb29c9a6d892bc7db4b91d1b.txt (deflated 26%)\n",
      "  adding: datasets/collard-bokchoy-2/train/labels/46_jpg.rf.1c856170335cee42989883e367060a2e.txt (deflated 15%)\n",
      "  adding: datasets/collard-bokchoy-2/train/labels/7_jpg.rf.161f19a9832453faf6c928134deaf531.txt (deflated 22%)\n",
      "  adding: datasets/collard-bokchoy-2/train/labels/92_jpg.rf.578e71d078091fc7a5b4a4adf7540a05.txt (deflated 14%)\n",
      "  adding: datasets/collard-bokchoy-2/train/labels/91_jpg.rf.c09958aad36762a7867dfad7ddcf3e92.txt (deflated 24%)\n",
      "  adding: datasets/collard-bokchoy-2/train/labels/70_jpg.rf.30fea8e43f38acba51831ebe7e8a9a9d.txt (deflated 12%)\n",
      "  adding: datasets/collard-bokchoy-2/train/labels/3_jpg.rf.b93dafba56af4fcfe294547645ea5e7b.txt (deflated 31%)\n",
      "  adding: datasets/collard-bokchoy-2/train/labels/71_jpg.rf.647b5ff5a2c01a6b6dd1b69b6791bdb0.txt (deflated 18%)\n",
      "  adding: datasets/collard-bokchoy-2/train/labels/33_jpg.rf.c16fc70165880e26e5fe4cf22cc445f6.txt (deflated 11%)\n",
      "  adding: datasets/collard-bokchoy-2/train/labels/56_jpg.rf.d64dbf071b4d2841aee96b5051c5c0ad.txt (deflated 16%)\n",
      "  adding: datasets/collard-bokchoy-2/train/labels/25_jpg.rf.d43a38be935903fba8158ee6529c9396.txt (deflated 20%)\n",
      "  adding: datasets/collard-bokchoy-2/train/labels/96_jpg.rf.7a79c35f10eb52f593e67261ce5a4d72.txt (deflated 22%)\n",
      "  adding: datasets/collard-bokchoy-2/train/labels/74_jpg.rf.9a8bfd8acf2317f94ee9412bb649b7be.txt (deflated 28%)\n",
      "  adding: datasets/collard-bokchoy-2/train/labels/2_jpg.rf.5723a22d46e15e98cb8139934b92a257.txt (deflated 17%)\n",
      "  adding: datasets/collard-bokchoy-2/train/labels/4_jpg.rf.7c85c1298b6fcb7611be84f6bc4dae32.txt (deflated 9%)\n",
      "  adding: datasets/collard-bokchoy-2/train/labels/51_jpg.rf.10d08e4f53a7f545a1a2acd26bc68e32.txt (deflated 15%)\n",
      "  adding: datasets/collard-bokchoy-2/train/labels/77_jpg.rf.ddbf643f75e6a6e5665a6a418e39a28f.txt (deflated 23%)\n",
      "  adding: datasets/collard-bokchoy-2/train/labels/15_jpg.rf.82e4eae759d6249d08160e87392915ee.txt (deflated 16%)\n",
      "  adding: datasets/collard-bokchoy-2/train/labels/21_jpg.rf.1108516dee545c0d2d931f78b258d55f.txt (deflated 21%)\n",
      "  adding: datasets/collard-bokchoy-2/train/labels/34_jpg.rf.abf80f1d9df2e1d343aee7bd7036956a.txt (deflated 8%)\n",
      "  adding: datasets/collard-bokchoy-2/train/labels/49_jpg.rf.a2eafc57b5f367df52399a004b6253fa.txt (deflated 30%)\n",
      "  adding: datasets/collard-bokchoy-2/train/labels/44_jpg.rf.078fc108170d813a9784113c8430fe2a.txt (deflated 26%)\n",
      "  adding: datasets/collard-bokchoy-2/train/labels/75_jpg.rf.556ab70dfac829d52a50af16933da42f.txt (deflated 22%)\n",
      "  adding: datasets/collard-bokchoy-2/train/labels/29_jpg.rf.cd49e3ba068d4d5d59a179d7e789a0d7.txt (deflated 20%)\n",
      "  adding: datasets/collard-bokchoy-2/train/labels/15_jpg.rf.16652baa0d4dbceecc5481deae52cf20.txt (deflated 15%)\n",
      "  adding: datasets/collard-bokchoy-2/train/labels/17_jpg.rf.0c5874059949a739f40b97188586f05c.txt (deflated 19%)\n",
      "  adding: datasets/collard-bokchoy-2/train/labels/100_jpg.rf.9ed006ba9c3cad6d87a4397dfb221738.txt (deflated 23%)\n",
      "  adding: datasets/collard-bokchoy-2/train/labels/38_jpg.rf.c863eaac6c1b4d94030d64e0309e1098.txt (deflated 33%)\n",
      "  adding: datasets/collard-bokchoy-2/train/labels/13_jpg.rf.999eda6fae1f7b91ce95c33c3d6b2a2a.txt (deflated 15%)\n",
      "  adding: datasets/collard-bokchoy-2/train/labels/4_jpg.rf.00b8205d143f3e715e3c79043db2ec54.txt (deflated 22%)\n",
      "  adding: datasets/collard-bokchoy-2/train/labels/80_png.rf.9149838301e265585971f717f980c78c.txt (deflated 18%)\n",
      "  adding: datasets/collard-bokchoy-2/train/labels/27_jpg.rf.ae3108eaebac297be0956f694a5daf77.txt (deflated 17%)\n",
      "  adding: datasets/collard-bokchoy-2/train/labels/55_jpg.rf.a3f1ba29bdf1ba38e047c627af6981b4.txt (deflated 19%)\n",
      "  adding: datasets/collard-bokchoy-2/train/labels/26_jpg.rf.8d3bad4e0153ddf433be1ddcd43d460a.txt (deflated 24%)\n",
      "  adding: datasets/collard-bokchoy-2/train/labels/100_jpg.rf.dfc3cd8406e012891a28b526513fca8b.txt (deflated 18%)\n",
      "  adding: datasets/collard-bokchoy-2/train/labels/23_jpg.rf.22a39520fd56f3a76f46f37d3d80da36.txt (deflated 18%)\n",
      "  adding: datasets/collard-bokchoy-2/train/labels/64_jpg.rf.78636d236dedd8b5cd9fc19e3e0758db.txt (deflated 17%)\n",
      "  adding: datasets/collard-bokchoy-2/train/labels/19_jpg.rf.2772ae872baf69902c823279fdbce511.txt (deflated 14%)\n",
      "  adding: datasets/collard-bokchoy-2/train/labels/64_jpg.rf.b6fbf6c8e139837b98af5820f2d88868.txt (deflated 13%)\n",
      "  adding: datasets/collard-bokchoy-2/train/labels/5_jpg.rf.a0d455f0b8219cdc0a0f03f2619ae6db.txt (deflated 34%)\n",
      "  adding: datasets/collard-bokchoy-2/train/labels/58_jpg.rf.3e64b8c56d0ead15cad08b2d0585a2e9.txt (deflated 20%)\n",
      "  adding: datasets/collard-bokchoy-2/train/labels/8_png.rf.40e9a37e04695b4ff1fa077b66aaf0fd.txt (deflated 16%)\n",
      "  adding: datasets/collard-bokchoy-2/train/labels/86_jpg.rf.c60cd228b00bcaedeba37c91b8167f9b.txt (deflated 11%)\n",
      "  adding: datasets/collard-bokchoy-2/train/labels/41_jpg.rf.b5bb719579c04ee9a9ebacd8188f0ea7.txt (deflated 22%)\n",
      "  adding: datasets/collard-bokchoy-2/train/labels/35_jpg.rf.77d227984ecc928692ee54fd9b1b12fb.txt (deflated 19%)\n",
      "  adding: datasets/collard-bokchoy-2/train/labels/35_jpg.rf.19f54689ad10913aae8b396b02a133b9.txt (deflated 26%)\n",
      "  adding: datasets/collard-bokchoy-2/train/labels/6_jpg.rf.bbc207f4d84526ee75a254a0a8c232eb.txt (deflated 7%)\n",
      "  adding: datasets/collard-bokchoy-2/train/labels/52_jpg.rf.05dc5a7bcfe44f67256624c679fb3648.txt (deflated 28%)\n",
      "  adding: datasets/collard-bokchoy-2/train/labels/76_jpg.rf.997b9be47184e385597f596dd037ae94.txt (deflated 17%)\n",
      "  adding: datasets/collard-bokchoy-2/train/labels/18_jpg.rf.676e208819400d1e40284975d0d6f43c.txt (deflated 26%)\n",
      "  adding: datasets/collard-bokchoy-2/train/labels/12_jpg.rf.766e79bdbbe6c38a97304efb7d02d1a9.txt (deflated 13%)\n",
      "  adding: datasets/collard-bokchoy-2/train/labels/41_jpg.rf.0687baa5591c83b2ff849812057a4f0c.txt (deflated 12%)\n",
      "  adding: datasets/collard-bokchoy-2/train/labels/71_jpg.rf.04bd2000d535f7ab6af340af4467999c.txt (deflated 18%)\n",
      "  adding: datasets/collard-bokchoy-2/train/labels/90_jpg.rf.d06e323292fab2d6bc9aa02a600c8ca3.txt (deflated 28%)\n",
      "  adding: datasets/collard-bokchoy-2/train/labels/67_jpg.rf.7bb46b320a94171f4b49e3fbf71f6bd8.txt (deflated 16%)\n",
      "  adding: datasets/collard-bokchoy-2/train/labels/82_jpg.rf.d59218e716888e1a7dfb5d66f7c1e00d.txt (deflated 21%)\n",
      "  adding: datasets/collard-bokchoy-2/train/labels/40_jpg.rf.0a1e2f419e485b418208daf3a8cc5194.txt (deflated 19%)\n",
      "  adding: datasets/collard-bokchoy-2/train/labels/74_jpg.rf.408644dfe89d8944181f2f765019a418.txt (deflated 27%)\n",
      "  adding: datasets/collard-bokchoy-2/train/labels/10_jpg.rf.9f970a071bc90fd0f439858f92c2af52.txt (deflated 18%)\n",
      "  adding: datasets/collard-bokchoy-2/train/labels/22_jpg.rf.fde0d90073136ae13568d205e30e421d.txt (deflated 11%)\n",
      "  adding: datasets/collard-bokchoy-2/train/labels/48_jpg.rf.b6e0a78dd79b16b7538b71b225987b86.txt (deflated 17%)\n",
      "  adding: datasets/collard-bokchoy-2/train/labels/62_jpg.rf.1872bee6738e74e80c92c9a02f514c14.txt (deflated 18%)\n",
      "  adding: datasets/collard-bokchoy-2/train/labels/22_jpg.rf.16d1f367284491c58d7286ec0caa9747.txt (deflated 30%)\n",
      "  adding: datasets/collard-bokchoy-2/train/labels/11_jpg.rf.b84e0ba38b2b7d7ddf486d2439af0f1f.txt (deflated 18%)\n",
      "  adding: datasets/collard-bokchoy-2/train/labels/65_jpg.rf.c53e5ff9fb9d7931c38ccf9e79d62d66.txt (deflated 22%)\n",
      "  adding: datasets/collard-bokchoy-2/train/labels/52_jpg.rf.d1f00bb1ad0e28947752ab889e70d7d3.txt (deflated 16%)\n",
      "  adding: datasets/collard-bokchoy-2/train/labels/1_jpg.rf.3d15dc1d9a1a9cb541449856ff024ef2.txt (deflated 28%)\n",
      "  adding: datasets/collard-bokchoy-2/train/labels/99_jpg.rf.c63d503cfb293374651817a5a15a265e.txt (deflated 21%)\n",
      "  adding: datasets/collard-bokchoy-2/train/labels/72_jpg.rf.68562e5b3bc8b47aff485af1b71e38e7.txt (deflated 26%)\n",
      "  adding: datasets/collard-bokchoy-2/train/labels/78_jpg.rf.4cb804a4373b9e667c41a2d50ee537f1.txt (deflated 23%)\n",
      "  adding: datasets/collard-bokchoy-2/train/labels/50_jpg.rf.81ff4c9d6d73f0559c3154c2a7729062.txt (deflated 23%)\n",
      "  adding: datasets/collard-bokchoy-2/train/labels/29_jpg.rf.08c640b3bbad649da93d9d48a8f04abe.txt (deflated 20%)\n",
      "  adding: datasets/collard-bokchoy-2/train/labels/57_jpg.rf.2bfb296150945ee2ad91e959f7637fe5.txt (deflated 23%)\n",
      "  adding: datasets/collard-bokchoy-2/train/labels/50_jpg.rf.c4822c2936ba4d60c16505c09d56af2e.txt (deflated 24%)\n",
      "  adding: datasets/collard-bokchoy-2/train/labels/19_jpg.rf.bc491d60f0b3f84b13d9661d9fdc3b8b.txt (deflated 20%)\n",
      "  adding: datasets/collard-bokchoy-2/train/labels/24_jpg.rf.cafd36d7681b9825e058ad4b1a8ea10a.txt (deflated 8%)\n",
      "  adding: datasets/collard-bokchoy-2/train/labels/31_jpg.rf.5ec1341deafbdfda26d47c1979edb882.txt (deflated 15%)\n",
      "  adding: datasets/collard-bokchoy-2/train/labels/55_jpg.rf.8b25b37dc85d09df140dd21ef109da07.txt (deflated 22%)\n",
      "  adding: datasets/collard-bokchoy-2/train/labels/23_jpg.rf.42ff1fe4940d8f0f9220d85d3d7e651a.txt (deflated 15%)\n",
      "  adding: datasets/collard-bokchoy-2/train/labels/32_jpg.rf.91966c10d37cd5c792afeccf5dc9778b.txt (deflated 12%)\n",
      "  adding: datasets/collard-bokchoy-2/train/labels/48_jpg.rf.018382e753dc656722301ce00077640a.txt (deflated 21%)\n",
      "  adding: datasets/collard-bokchoy-2/train/labels/54_jpg.rf.6b8101cf974699935313787a97766296.txt (deflated 17%)\n",
      "  adding: datasets/collard-bokchoy-2/train/labels/82_jpg.rf.0959d45fc6d7df692152ba430de97478.txt (deflated 24%)\n",
      "  adding: datasets/collard-bokchoy-2/train/labels/18_jpg.rf.2bdae460ceb9f6496a6a76d99e98aadd.txt (deflated 14%)\n",
      "  adding: datasets/collard-bokchoy-2/train/labels/83_jpg.rf.98649220945a08d0e427507a54800620.txt (deflated 26%)\n",
      "  adding: datasets/collard-bokchoy-2/train/labels/88_jpg.rf.a80058889da56f0bff873aa7ea583921.txt (deflated 12%)\n",
      "  adding: datasets/collard-bokchoy-2/train/labels/2_jpg.rf.139ea93a858337290b55b19679e717c0.txt (deflated 14%)\n",
      "  adding: datasets/collard-bokchoy-2/train/labels/21_jpg.rf.ac85c3226fabe6b54718ebc6d9358a86.txt (deflated 19%)\n",
      "  adding: datasets/collard-bokchoy-2/train/labels/69_jpg.rf.cc3d91bbd656d7c8eabf598642f26803.txt (deflated 23%)\n",
      "  adding: datasets/collard-bokchoy-2/train/labels/89_jpg.rf.2da961dc8d58e548cf5b3254193c83a2.txt (deflated 34%)\n",
      "  adding: datasets/collard-bokchoy-2/train/labels/17_jpg.rf.7659de3a75d63e6ab935661733bdd53b.txt (deflated 29%)\n",
      "  adding: datasets/collard-bokchoy-2/train/labels/30_jpg.rf.5c51a092fa5e2d64a16ece929fad0105.txt (deflated 21%)\n",
      "  adding: datasets/collard-bokchoy-2/train/labels/5_jpg.rf.412f7db4ff00ed2df5d0d34c0dff1c3b.txt (deflated 14%)\n",
      "  adding: datasets/collard-bokchoy-2/train/labels/13_jpg.rf.6f3c43ce60cd9c64cf3f1e70d9b3a4d4.txt (deflated 7%)\n",
      "  adding: datasets/collard-bokchoy-2/train/labels/39_jpg.rf.263cd48679d1e7ea57360ce4ff457057.txt (deflated 16%)\n",
      "  adding: datasets/collard-bokchoy-2/train/labels/24_jpg.rf.d4a879fb94b860cf8822629186dbdfb4.txt (deflated 31%)\n",
      "  adding: datasets/collard-bokchoy-2/train/labels/62_jpg.rf.3603dd56919d42e0d810d0645c182692.txt (deflated 21%)\n",
      "  adding: datasets/collard-bokchoy-2/train/labels/94_jpg.rf.3ad4e8dac709be9aa4669aca8917d965.txt (deflated 18%)\n",
      "  adding: datasets/collard-bokchoy-2/train/labels/79_jpg.rf.b4124dfc64e3fbc36105fdb0395b20ca.txt (deflated 18%)\n",
      "  adding: datasets/collard-bokchoy-2/train/labels/9_jpg.rf.06e956447938423ad29b5c47f72cd05e.txt (deflated 21%)\n",
      "  adding: datasets/collard-bokchoy-2/train/labels/66_jpg.rf.6d93a093d18016b279cf7ccfa8cf7cd9.txt (deflated 30%)\n",
      "  adding: datasets/collard-bokchoy-2/train/labels/85_jpg.rf.a2cfb77ef6268beca52665c871498f09.txt (deflated 21%)\n",
      "  adding: datasets/collard-bokchoy-2/train/labels/73_jpg.rf.c5a5a9a2ea4ad649c71eeaddb057f328.txt (deflated 20%)\n",
      "  adding: datasets/collard-bokchoy-2/train/labels/28_jpg.rf.27a6e8bb1c266c3b4fe6ba17ca02d4ad.txt (deflated 12%)\n",
      "  adding: datasets/collard-bokchoy-2/train/labels/93_jpg.rf.8622bc7a431b0c9769308ad21e7666ba.txt (deflated 23%)\n",
      "  adding: datasets/collard-bokchoy-2/train/labels/59_jpg.rf.2efceea711525875b3879889bf98d802.txt (deflated 19%)\n",
      "  adding: datasets/collard-bokchoy-2/train/labels/57_jpg.rf.4d718a36e8c7a99354cf7534d39f97f0.txt (deflated 13%)\n",
      "  adding: datasets/collard-bokchoy-2/train/labels/6_jpg.rf.ee0b760699f03bce172dd7d62bbd32fb.txt (deflated 26%)\n",
      "  adding: datasets/collard-bokchoy-2/train/labels/28_jpg.rf.8456e34aa4f24d3baa1f0281dd7cfc2e.txt (deflated 14%)\n",
      "  adding: datasets/collard-bokchoy-2/train/labels/84_jpg.rf.e41e843e6ac535362fbb366048dfae93.txt (deflated 16%)\n",
      "  adding: datasets/collard-bokchoy-2/train/labels/12_jpg.rf.6ea2f9297e58de0aa688015923278d2a.txt (deflated 18%)\n",
      "  adding: datasets/collard-bokchoy-2/train/labels/76_jpg.rf.e6056277595371432d0f11998ed09755.txt (deflated 15%)\n",
      "  adding: datasets/collard-bokchoy-2/train/labels/92_jpg.rf.159de7fa74a2e306a54aa7f4e9147b45.txt (deflated 14%)\n",
      "  adding: datasets/collard-bokchoy-2/train/labels/30_jpg.rf.44778ee6f5c4ab2b8f289b40247c49ca.txt (deflated 24%)\n",
      "  adding: datasets/collard-bokchoy-2/test/ (stored 0%)\n",
      "  adding: datasets/collard-bokchoy-2/test/images/ (stored 0%)\n",
      "  adding: datasets/collard-bokchoy-2/test/images/63_jpg.rf.a8a93ae778976840ea4c1d8d821818d3.jpg (deflated 0%)\n",
      "  adding: datasets/collard-bokchoy-2/test/images/33_jpg.rf.fb36e2058c6d54fe8f193a1510b432c8.jpg (deflated 0%)\n",
      "  adding: datasets/collard-bokchoy-2/test/images/38_jpg.rf.70fbb79d7cefe8d4ab94ccc1c1241331.jpg (deflated 0%)\n",
      "  adding: datasets/collard-bokchoy-2/test/images/7_jpg.rf.ca74cba3cbd2d2e16d26d726a6e13ec4.jpg (deflated 9%)\n",
      "  adding: datasets/collard-bokchoy-2/test/images/68_jpg.rf.60164a8d69779684b01590c65bc39885.jpg (deflated 7%)\n",
      "  adding: datasets/collard-bokchoy-2/test/images/42_jpg.rf.70f7d74d37e1b749f506079093e6eecd.jpg (deflated 0%)\n",
      "  adding: datasets/collard-bokchoy-2/test/images/25_jpg.rf.437b1cceaff3ec5ca6767677e2077e25.jpg (deflated 0%)\n",
      "  adding: datasets/collard-bokchoy-2/test/images/40_jpg.rf.0f3d80de60fca127e87e2d1d17ef7f12.jpg (deflated 0%)\n",
      "  adding: datasets/collard-bokchoy-2/test/images/34_jpg.rf.4ffdc3087dd66e281154efd1a68e678c.jpg (deflated 5%)\n",
      "  adding: datasets/collard-bokchoy-2/test/images/36_jpg.rf.5f1d560b72c875e97da2abf8a456117c.jpg (deflated 6%)\n",
      "  adding: datasets/collard-bokchoy-2/test/images/3_jpg.rf.c1aba52cd029abf8accc85d3e5480000.jpg (deflated 0%)\n",
      "  adding: datasets/collard-bokchoy-2/test/images/69_jpg.rf.4ea901c74da869c8eb34a64c6c19f489.jpg (deflated 12%)\n",
      "  adding: datasets/collard-bokchoy-2/test/images/53_jpg.rf.136d8d2c8983c583d2e42585386d777c.jpg (deflated 4%)\n",
      "  adding: datasets/collard-bokchoy-2/test/images/91_jpg.rf.49777885b95cdaeb5b120e9a26d16462.jpg (deflated 0%)\n",
      "  adding: datasets/collard-bokchoy-2/test/images/16_jpg.rf.0cfa30e558494ab948b31399c78c4820.jpg (deflated 0%)\n",
      "  adding: datasets/collard-bokchoy-2/test/images/14_jpg.rf.870bdde8430ecaed45f8f6b005936d21.jpg (deflated 14%)\n",
      "  adding: datasets/collard-bokchoy-2/test/images/58_jpg.rf.0fe0d000c43dd08b7c37ea7e7a8f9e7e.jpg (deflated 7%)\n",
      "  adding: datasets/collard-bokchoy-2/test/labels/ (stored 0%)\n",
      "  adding: datasets/collard-bokchoy-2/test/labels/40_jpg.rf.0f3d80de60fca127e87e2d1d17ef7f12.txt (deflated 18%)\n",
      "  adding: datasets/collard-bokchoy-2/test/labels/16_jpg.rf.0cfa30e558494ab948b31399c78c4820.txt (deflated 8%)\n",
      "  adding: datasets/collard-bokchoy-2/test/labels/38_jpg.rf.70fbb79d7cefe8d4ab94ccc1c1241331.txt (deflated 7%)\n",
      "  adding: datasets/collard-bokchoy-2/test/labels/14_jpg.rf.870bdde8430ecaed45f8f6b005936d21.txt (deflated 22%)\n",
      "  adding: datasets/collard-bokchoy-2/test/labels/3_jpg.rf.c1aba52cd029abf8accc85d3e5480000.txt (deflated 30%)\n",
      "  adding: datasets/collard-bokchoy-2/test/labels/7_jpg.rf.ca74cba3cbd2d2e16d26d726a6e13ec4.txt (deflated 18%)\n",
      "  adding: datasets/collard-bokchoy-2/test/labels/36_jpg.rf.5f1d560b72c875e97da2abf8a456117c.txt (deflated 23%)\n",
      "  adding: datasets/collard-bokchoy-2/test/labels/69_jpg.rf.4ea901c74da869c8eb34a64c6c19f489.txt (deflated 25%)\n",
      "  adding: datasets/collard-bokchoy-2/test/labels/53_jpg.rf.136d8d2c8983c583d2e42585386d777c.txt (deflated 20%)\n",
      "  adding: datasets/collard-bokchoy-2/test/labels/42_jpg.rf.70f7d74d37e1b749f506079093e6eecd.txt (deflated 24%)\n",
      "  adding: datasets/collard-bokchoy-2/test/labels/63_jpg.rf.a8a93ae778976840ea4c1d8d821818d3.txt (deflated 8%)\n",
      "  adding: datasets/collard-bokchoy-2/test/labels/91_jpg.rf.49777885b95cdaeb5b120e9a26d16462.txt (deflated 7%)\n",
      "  adding: datasets/collard-bokchoy-2/test/labels/33_jpg.rf.fb36e2058c6d54fe8f193a1510b432c8.txt (deflated 21%)\n",
      "  adding: datasets/collard-bokchoy-2/test/labels/34_jpg.rf.4ffdc3087dd66e281154efd1a68e678c.txt (deflated 26%)\n",
      "  adding: datasets/collard-bokchoy-2/test/labels/58_jpg.rf.0fe0d000c43dd08b7c37ea7e7a8f9e7e.txt (deflated 21%)\n",
      "  adding: datasets/collard-bokchoy-2/test/labels/68_jpg.rf.60164a8d69779684b01590c65bc39885.txt (deflated 15%)\n",
      "  adding: datasets/collard-bokchoy-2/test/labels/25_jpg.rf.437b1cceaff3ec5ca6767677e2077e25.txt (deflated 18%)\n",
      "  adding: datasets/collard-bokchoy-2/README.roboflow.txt (deflated 45%)\n"
     ]
    }
   ],
   "source": [
    "!zip -r datasets.zip datasets\n"
   ]
  },
  {
   "cell_type": "code",
   "execution_count": null,
   "metadata": {
    "colab": {
     "base_uri": "https://localhost:8080/"
    },
    "id": "wZWg-XUvidsc",
    "outputId": "f94ff5d3-db33-45b4-deac-e2e5b185ebd6"
   },
   "outputs": [
    {
     "name": "stdout",
     "output_type": "stream",
     "text": [
      "  adding: runs/ (stored 0%)\n",
      "  adding: runs/detect/ (stored 0%)\n",
      "  adding: runs/detect/predict/ (stored 0%)\n",
      "  adding: runs/detect/predict/63_jpg.rf.a8a93ae778976840ea4c1d8d821818d3.jpg (deflated 4%)\n",
      "  adding: runs/detect/predict/33_jpg.rf.fb36e2058c6d54fe8f193a1510b432c8.jpg (deflated 4%)\n",
      "  adding: runs/detect/predict/38_jpg.rf.70fbb79d7cefe8d4ab94ccc1c1241331.jpg (deflated 4%)\n",
      "  adding: runs/detect/predict/7_jpg.rf.ca74cba3cbd2d2e16d26d726a6e13ec4.jpg (deflated 15%)\n",
      "  adding: runs/detect/predict/68_jpg.rf.60164a8d69779684b01590c65bc39885.jpg (deflated 12%)\n",
      "  adding: runs/detect/predict/42_jpg.rf.70f7d74d37e1b749f506079093e6eecd.jpg (deflated 5%)\n",
      "  adding: runs/detect/predict/25_jpg.rf.437b1cceaff3ec5ca6767677e2077e25.jpg (deflated 6%)\n",
      "  adding: runs/detect/predict/40_jpg.rf.0f3d80de60fca127e87e2d1d17ef7f12.jpg (deflated 6%)\n",
      "  adding: runs/detect/predict/34_jpg.rf.4ffdc3087dd66e281154efd1a68e678c.jpg (deflated 11%)\n",
      "  adding: runs/detect/predict/36_jpg.rf.5f1d560b72c875e97da2abf8a456117c.jpg (deflated 17%)\n",
      "  adding: runs/detect/predict/3_jpg.rf.c1aba52cd029abf8accc85d3e5480000.jpg (deflated 5%)\n",
      "  adding: runs/detect/predict/69_jpg.rf.4ea901c74da869c8eb34a64c6c19f489.jpg (deflated 13%)\n",
      "  adding: runs/detect/predict/53_jpg.rf.136d8d2c8983c583d2e42585386d777c.jpg (deflated 7%)\n",
      "  adding: runs/detect/predict/91_jpg.rf.49777885b95cdaeb5b120e9a26d16462.jpg (deflated 4%)\n",
      "  adding: runs/detect/predict/16_jpg.rf.0cfa30e558494ab948b31399c78c4820.jpg (deflated 5%)\n",
      "  adding: runs/detect/predict/14_jpg.rf.870bdde8430ecaed45f8f6b005936d21.jpg (deflated 17%)\n",
      "  adding: runs/detect/predict/58_jpg.rf.0fe0d000c43dd08b7c37ea7e7a8f9e7e.jpg (deflated 11%)\n",
      "  adding: runs/detect/train/ (stored 0%)\n",
      "  adding: runs/detect/train/results.png (deflated 6%)\n",
      "  adding: runs/detect/train/confusion_matrix.png (deflated 37%)\n",
      "  adding: runs/detect/train/R_curve.png (deflated 13%)\n",
      "  adding: runs/detect/train/P_curve.png (deflated 12%)\n",
      "  adding: runs/detect/train/val_batch1_labels.jpg (deflated 27%)\n",
      "  adding: runs/detect/train/F1_curve.png (deflated 12%)\n",
      "  adding: runs/detect/train/weights/ (stored 0%)\n",
      "  adding: runs/detect/train/weights/last.pt (deflated 8%)\n",
      "  adding: runs/detect/train/weights/best.pt (deflated 8%)\n",
      "  adding: runs/detect/train/labels_correlogram.jpg (deflated 49%)\n",
      "  adding: runs/detect/train/val_batch0_labels.jpg (deflated 15%)\n",
      "  adding: runs/detect/train/confusion_matrix_normalized.png (deflated 32%)\n",
      "  adding: runs/detect/train/train_batch1.jpg (deflated 14%)\n",
      "  adding: runs/detect/train/val_batch1_pred.jpg (deflated 29%)\n",
      "  adding: runs/detect/train/train_batch2.jpg (deflated 15%)\n",
      "  adding: runs/detect/train/val_batch0_pred.jpg (deflated 14%)\n",
      "  adding: runs/detect/train/args.yaml (deflated 53%)\n",
      "  adding: runs/detect/train/events.out.tfevents.1732340011.50e0bdce1ee7.1332.0 (deflated 93%)\n",
      "  adding: runs/detect/train/train_batch0.jpg (deflated 13%)\n",
      "  adding: runs/detect/train/PR_curve.png (deflated 22%)\n",
      "  adding: runs/detect/train/results.csv (deflated 57%)\n",
      "  adding: runs/detect/train/labels.jpg (deflated 36%)\n",
      "  adding: runs/detect/val/ (stored 0%)\n",
      "  adding: runs/detect/val/confusion_matrix.png (deflated 37%)\n",
      "  adding: runs/detect/val/R_curve.png (deflated 13%)\n",
      "  adding: runs/detect/val/P_curve.png (deflated 12%)\n",
      "  adding: runs/detect/val/val_batch1_labels.jpg (deflated 9%)\n",
      "  adding: runs/detect/val/F1_curve.png (deflated 12%)\n",
      "  adding: runs/detect/val/val_batch2_pred.jpg (deflated 29%)\n",
      "  adding: runs/detect/val/val_batch0_labels.jpg (deflated 15%)\n",
      "  adding: runs/detect/val/confusion_matrix_normalized.png (deflated 32%)\n",
      "  adding: runs/detect/val/val_batch1_pred.jpg (deflated 9%)\n",
      "  adding: runs/detect/val/val_batch0_pred.jpg (deflated 14%)\n",
      "  adding: runs/detect/val/PR_curve.png (deflated 22%)\n",
      "  adding: runs/detect/val/val_batch2_labels.jpg (deflated 27%)\n"
     ]
    }
   ],
   "source": [
    "!zip -r runs.zip runs\n"
   ]
  }
 ],
 "metadata": {
  "accelerator": "GPU",
  "colab": {
   "gpuType": "T4",
   "provenance": []
  },
  "kernelspec": {
   "display_name": "sahabat-tani-group",
   "language": "python",
   "name": "python3"
  },
  "language_info": {
   "codemirror_mode": {
    "name": "ipython",
    "version": 3
   },
   "file_extension": ".py",
   "mimetype": "text/x-python",
   "name": "python",
   "nbconvert_exporter": "python",
   "pygments_lexer": "ipython3",
   "version": "3.12.7"
  }
 },
 "nbformat": 4,
 "nbformat_minor": 0
}
